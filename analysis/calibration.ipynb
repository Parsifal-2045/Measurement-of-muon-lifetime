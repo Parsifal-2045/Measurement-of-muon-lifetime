{
 "cells": [
  {
   "cell_type": "code",
   "execution_count": 2,
   "metadata": {},
   "outputs": [],
   "source": [
    "import pandas as pd\n",
    "import numpy as np\n",
    "import matplotlib.pyplot as plt\n",
    "from scipy.odr import *"
   ]
  },
  {
   "cell_type": "code",
   "execution_count": 3,
   "metadata": {},
   "outputs": [
    {
     "name": "stdout",
     "output_type": "stream",
     "text": [
      "[15.771973057335304, 58.00791295746785, 86.3144758735441, 122.8952722920407, 239.52708541043535, 570.0639671361502, 1357.9322308690014, 2535.4387855044074, 4060.489510489511]\n",
      "[0.5563413945443026, 0.5665370447107784, 0.5453614914082324, 0.6220887024884572, 0.5918459270911903, 1.227861667636571, 0.7485012605225715, 0.5794766798601606, 1.1394595773526246]\n"
     ]
    }
   ],
   "source": [
    "file_133 = pd.read_csv(\n",
    "    \"calibration_data/test_133_20042023.txt\", header=None, delim_whitespace=True)\n",
    "file_293 = pd.read_csv(\n",
    "    \"calibration_data/test_293_20042023.txt\", header=None, delim_whitespace=True)\n",
    "file_407 = pd.read_csv(\n",
    "    \"calibration_data/test_407_20042023.txt\", header=None, delim_whitespace=True)\n",
    "file_555 = pd.read_csv(\n",
    "    \"calibration_data/test_555_20042023.txt\", header=None, delim_whitespace=True)\n",
    "file_1021 = pd.read_csv(\n",
    "    \"calibration_data/test_1021_20042023.txt\", header=None, delim_whitespace=True)\n",
    "file_2274 = pd.read_csv(\n",
    "    \"calibration_data/test_2274_20042023.txt\", header=None, delim_whitespace=True)\n",
    "file_5507 = pd.read_csv(\n",
    "    \"calibration_data/test_5507_20042023.txt\", header=None, delim_whitespace=True)\n",
    "file_10180 = pd.read_csv(\n",
    "    \"calibration_data/test_10180_20042023.txt\", header=None, delim_whitespace=True)\n",
    "file_16200 = pd.read_csv(\n",
    "    \"calibration_data/test_16200_20042023.txt\", header=None, delim_whitespace=True)\n",
    "files = [file_133, file_293, file_407, file_555, file_1021,\n",
    "         file_2274, file_5507, file_10180, file_16200]\n",
    "file_133[3] = file_133[3].astype(str)\n",
    "\n",
    "mean = []\n",
    "std = []\n",
    "\n",
    "for f in files:\n",
    "    f.columns = ['tmp', 'Event', 'Trg_time', 'P1', 'P2', 'P3']\n",
    "    f.drop('tmp', axis=1, inplace=True)\n",
    "    f['P1'] = f['P1'].apply(int, base=16)\n",
    "    f['P2'] = f['P2'].apply(int, base=16)\n",
    "    f['P3'] = f['P3'].apply(int, base=16)\n",
    "    tmp_mean = (f['P1'].mean() + f['P2'].mean() + f['P3'].mean())/3\n",
    "    tmp_std = np.sqrt((f['P1'].std()*f['P1'].std() + f['P2'].std()\n",
    "                      * f['P2'].std() + f['P3'].std()*f['P3'].std()))/3\n",
    "    mean.append(tmp_mean)\n",
    "    std.append(tmp_std)\n",
    "\n",
    "print(mean)\n",
    "print(std)\n"
   ]
  },
  {
   "cell_type": "code",
   "execution_count": 4,
   "metadata": {},
   "outputs": [
    {
     "name": "stdout",
     "output_type": "stream",
     "text": [
      "Beta: [ 3.97899156 66.00910092]\n",
      "Beta Std Error: [0.00938322 2.46034523]\n",
      "Beta Covariance: [[ 2.21782438e-05 -2.29515766e-03]\n",
      " [-2.29515766e-03  1.52480851e+00]]\n",
      "Residual Variance: 3.969874624205647\n",
      "Inverse Condition #: 0.035671438071920004\n",
      "Reason(s) for Halting:\n",
      "  Sum of squares convergence\n"
     ]
    },
    {
     "data": {
      "image/png": "[encoded data removed]",
      "text/plain": [
       "<Figure size 640x480 with 1 Axes>"
      ]
     },
     "metadata": {},
     "output_type": "display_data"
    }
   ],
   "source": [
    "x = np.array(mean)\n",
    "y = np.array([133.8, 293.2, 407.4, 555.0, 1021.0, 2274.0, 5507.0, 10180.0, 16200.0])\n",
    "\n",
    "x_err = np.array(std)\n",
    "y_err = np.array([0.450, 0.58, 0.969, 1.0, 3.0, 16.0, 18.0, 22.0, 25.0])\n",
    "\n",
    "# Define a function (quadratic in our case) to fit the data with.\n",
    "def quad_func(p, x):\n",
    "     m, q = p\n",
    "     return m*x + q\n",
    "\n",
    "# Create a model for fitting.\n",
    "quad_model = Model(quad_func)\n",
    "\n",
    "# Create a RealData object using our initiated data from above.\n",
    "data = RealData(x, y, sx=x_err, sy=y_err)\n",
    "\n",
    "# Set up ODR with the model and data.\n",
    "odr = ODR(data, quad_model, beta0=[0., 1.])\n",
    "\n",
    "# Run the regression.\n",
    "out = odr.run()\n",
    "\n",
    "# Use the in-built pprint method to give us results.\n",
    "out.pprint()\n",
    "\n",
    "x_fit = np.linspace(x[0], x[-1], 1000)\n",
    "y_fit = quad_func(out.beta, x_fit)\n",
    "\n",
    "plt.errorbar(x, y, xerr=x_err, yerr=y_err, linestyle='None', marker='x')\n",
    "plt.plot(x_fit, y_fit)\n",
    "\n",
    "plt.show()"
   ]
  },
  {
   "cell_type": "code",
   "execution_count": null,
   "metadata": {},
   "outputs": [],
   "source": []
  }
 ],
 "metadata": {
  "kernelspec": {
   "display_name": "Python 3",
   "language": "python",
   "name": "python3"
  },
  "language_info": {
   "codemirror_mode": {
    "name": "ipython",
    "version": 3
   },
   "file_extension": ".py",
   "mimetype": "text/x-python",
   "name": "python",
   "nbconvert_exporter": "python",
   "pygments_lexer": "ipython3",
   "version": "3.10.6"
  },
  "orig_nbformat": 4,
  "vscode": {
   "interpreter": {
    "hash": "916dbcbb3f70747c44a77c7bcd40155683ae19c65e1c03b4aa3499c5328201f1"
   }
  }
 },
 "nbformat": 4,
 "nbformat_minor": 2
}
